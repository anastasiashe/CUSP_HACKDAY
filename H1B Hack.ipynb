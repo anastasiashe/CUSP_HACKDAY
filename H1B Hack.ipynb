{
 "cells": [
  {
   "cell_type": "code",
   "execution_count": 42,
   "metadata": {
    "collapsed": true
   },
   "outputs": [],
   "source": [
    "import pandas as pd\n",
    "import numpy as np\n",
    "import os\n",
    "from sklearn.linear_model import LogisticRegression\n",
    "from pandas.tools.plotting import scatter_matrix\n",
    "import matplotlib.pylab as pl\n",
    "from sklearn.metrics import confusion_matrix\n",
    "%matplotlib inline"
   ]
  },
  {
   "cell_type": "code",
   "execution_count": null,
   "metadata": {
    "collapsed": true
   },
   "outputs": [],
   "source": [
    "data = pd.read_excel(\"https://www.foreignlaborcert.doleta.gov/docs/py2015q4/H-1B_Disclosure_Data_FY15_Q4.xlsx\")"
   ]
  },
  {
   "cell_type": "code",
   "execution_count": 2,
   "metadata": {
    "collapsed": true
   },
   "outputs": [],
   "source": [
    "def getcsv():\n",
    "    '''The function downloads the 'H1B data'\n",
    "    Author: vys217\n",
    "    '''\n",
    "    print (\"Downloading\")\n",
    "    \n",
    "    if not os.path.isfile(os.getenv(\"PUIDATA\") + \"/\" + \"H-1B_Disclosure_Data_FY15_Q4.xlsx\"):\n",
    "        if os.path.isfile(\"H-1B_Disclosure_Data_FY15_Q4.xlsx\"):\n",
    "            # if in the current dir just move it\n",
    "            if os.system(\"mv \" + \"H-1B_Disclosure_Data_FY15_Q4.xlsx \" + os.getenv(\"PUIDATA\")):\n",
    "                print (\"Error moving file!, Please check!\")\n",
    "        #otherwise start looking for the zip file\n",
    "        else:\n",
    "            if not os.path.isfile(os.getenv(\"PUIDATA\") + \"/\" + \"H-1B_Disclosure_Data_FY15_Q4.xlsx\"):\n",
    "                if not os.path.isfile(\"H-1B_Disclosure_Data_FY15_Q4.xlsx\"):\n",
    "                    os.system(\"wget https://www.foreignlaborcert.doleta.gov/docs/py2015q4/H-1B_Disclosure_Data_FY15_Q4.xlsx\")\n",
    "                    \n",
    "                ###  To move it I use the os.system() functions to run bash commands with arguments\n",
    "                os.system(\"mv \" + \"H-1B_Disclosure_Data_FY15_Q4.xlsx \" + os.getenv(\"PUIDATA\"))\n",
    "\n",
    "    ### One final check:\n",
    "    if not os.path.isfile(os.getenv(\"PUIDATA\") + \"/\" + \"H-1B_Disclosure_Data_FY15_Q4.xlsx\"):\n",
    "        print (\"WARNING!!! something is wrong: the file is not there!\")\n",
    "\n",
    "    else:\n",
    "        print (\"file in place, you can continue\")\n",
    "        \n",
    "    print (\"Downloading\")\n",
    "    \n",
    "    if not os.path.isfile(os.getenv(\"PUIDATA\") + \"/\" + \"2017_NAICS_Structure.xlsx\"):\n",
    "        if os.path.isfile(\"2017_NAICS_Structure.xlsx\"):\n",
    "            # if in the current dir just move it\n",
    "            if os.system(\"mv \" + \"2017_NAICS_Structure.xlsx \" + os.getenv(\"PUIDATA\")):\n",
    "                print (\"Error moving file!, Please check!\")\n",
    "        #otherwise start looking for the zip file\n",
    "        else:\n",
    "            if not os.path.isfile(os.getenv(\"PUIDATA\") + \"/\" + \"2017_NAICS_Structure.xlsx\"):\n",
    "                if not os.path.isfile(\"2017_NAICS_Structure.xlsx\"):\n",
    "                    os.system(\"wget http://www.census.gov/eos/www/naics/2017NAICS/2017_NAICS_Structure.xlsx\")\n",
    "                    \n",
    "                ###  To move it I use the os.system() functions to run bash commands with arguments\n",
    "                os.system(\"mv \" + \"2017_NAICS_Structure.xlsx \" + os.getenv(\"PUIDATA\"))\n",
    "\n",
    "    ### One final check:\n",
    "    if not os.path.isfile(os.getenv(\"PUIDATA\") + \"/\" + \"2017_NAICS_Structure.xlsx\"):\n",
    "        print (\"WARNING!!! something is wrong: the file is not there!\")\n",
    "\n",
    "    else:\n",
    "        print (\"file in place, you can continue\")    "
   ]
  },
  {
   "cell_type": "code",
   "execution_count": 3,
   "metadata": {
    "collapsed": false
   },
   "outputs": [
    {
     "name": "stdout",
     "output_type": "stream",
     "text": [
      "Downloading\n",
      "file in place, you can continue\n",
      "Downloading\n",
      "file in place, you can continue\n"
     ]
    }
   ],
   "source": [
    "getcsv()"
   ]
  },
  {
   "cell_type": "code",
   "execution_count": 4,
   "metadata": {
    "collapsed": false
   },
   "outputs": [],
   "source": [
    "data = pd.read_excel(os.getenv('PUIDATA')+'/'+\"H-1B_Disclosure_Data_FY15_Q4.xlsx\")"
   ]
  },
  {
   "cell_type": "code",
   "execution_count": 5,
   "metadata": {
    "collapsed": true
   },
   "outputs": [],
   "source": [
    "codes = pd.read_excel( os.getenv('PUIDATA')+'/'+\"2017_NAICS_Structure.xlsx\", header= 2)\n",
    "codes.drop(['Change Indicator'], axis= 1, inplace= True)\n",
    "codes.rename(columns={'2017 NAICS Code' : 'NAIC_CODE'}, inplace=True)"
   ]
  },
  {
   "cell_type": "code",
   "execution_count": 6,
   "metadata": {
    "collapsed": true
   },
   "outputs": [],
   "source": [
    "data['decision_date'] = data.DECISION_DATE - data.CASE_SUBMITTED\n",
    "data = data[data.VISA_CLASS == 'H-1B']"
   ]
  },
  {
   "cell_type": "code",
   "execution_count": 7,
   "metadata": {
    "collapsed": true
   },
   "outputs": [],
   "source": [
    "data1 = data.copy()"
   ]
  },
  {
   "cell_type": "code",
   "execution_count": 8,
   "metadata": {
    "collapsed": false,
    "scrolled": false
   },
   "outputs": [],
   "source": [
    "data1.drop(['EMPLOYER_ADDRESS1', 'EMPLOYER_ADDRESS2', 'EMPLOYER_CITY', 'EMPLOYER_STATE', \n",
    "                     'EMPLOYER_POSTAL_CODE', 'VISA_CLASS', 'EMPLOYER_COUNTRY', 'EMPLOYER_PROVINCE',\n",
    "                     'EMPLOYER_PHONE', 'EMPLOYER_PHONE_EXT', 'AGENT_ATTORNEY_NAME', 'AGENT_ATTORNEY_CITY',\n",
    "                     'AGENT_ATTORNEY_STATE', 'SOC_CODE', 'PW_WAGE_SOURCE', 'PW_WAGE_SOURCE_YEAR', \n",
    "                     'PW_WAGE_SOURCE_OTHER', 'WORKSITE_COUNTY'], axis = 1, inplace = True)"
   ]
  },
  {
   "cell_type": "code",
   "execution_count": 10,
   "metadata": {
    "collapsed": false
   },
   "outputs": [],
   "source": [
    "data1 = data1[(data.CASE_STATUS == 'CERTIFIED') | (data1.CASE_STATUS == 'DENIED')]"
   ]
  },
  {
   "cell_type": "code",
   "execution_count": 14,
   "metadata": {
    "collapsed": false
   },
   "outputs": [
    {
     "data": {
      "text/plain": [
       "CASE_NUMBER                       object\n",
       "CASE_STATUS                       object\n",
       "CASE_SUBMITTED            datetime64[ns]\n",
       "DECISION_DATE             datetime64[ns]\n",
       "EMPLOYMENT_START_DATE             object\n",
       "EMPLOYMENT_END_DATE               object\n",
       "EMPLOYER_NAME                     object\n",
       "JOB_TITLE                         object\n",
       "SOC_NAME                          object\n",
       "NAIC_CODE                        float64\n",
       "TOTAL WORKERS                    float64\n",
       "FULL_TIME_POSITION                object\n",
       "PREVAILING_WAGE                  float64\n",
       "PW_UNIT_OF_PAY                    object\n",
       "PW_WAGE_LEVEL                     object\n",
       "WAGE_RATE_OF_PAY                  object\n",
       "WAGE_UNIT_OF_PAY                  object\n",
       "H-1B_DEPENDENT                    object\n",
       "WILLFUL VIOLATOR                  object\n",
       "WORKSITE_CITY                     object\n",
       "WORKSITE_STATE                    object\n",
       "WORKSITE_POSTAL_CODE              object\n",
       "decision_date            timedelta64[ns]\n",
       "dtype: object"
      ]
     },
     "execution_count": 14,
     "metadata": {},
     "output_type": "execute_result"
    }
   ],
   "source": [
    "data1.dtypes"
   ]
  },
  {
   "cell_type": "code",
   "execution_count": 15,
   "metadata": {
    "collapsed": true
   },
   "outputs": [],
   "source": [
    "data2 = data1.dropna(subset=['WAGE_UNIT_OF_PAY'])"
   ]
  },
  {
   "cell_type": "code",
   "execution_count": 16,
   "metadata": {
    "collapsed": false
   },
   "outputs": [],
   "source": [
    "def convertwage(wage, unit, FT):\n",
    "   if unit == 'Year':\n",
    "       return wage\n",
    "   elif unit == 'Month':\n",
    "       return wage * 12\n",
    "   elif unit == 'Week':\n",
    "       return wage * 4 *12\n",
    "   elif unit == 'Bi-Weekly':\n",
    "       return wage * 2 * 12\n",
    "   elif unit == 'Hour':\n",
    "       if FT == 'Y':\n",
    "           return wage * 40 * 4 * 12\n",
    "       elif FT == 'N':\n",
    "           return wage * 20 * 4 * 12\n",
    "Convertwage = np.vectorize(convertwage)"
   ]
  },
  {
   "cell_type": "code",
   "execution_count": 17,
   "metadata": {
    "collapsed": true
   },
   "outputs": [],
   "source": [
    "def rangeconvert(w_str):\n",
    "   w_list = np.array(w_str.split(\"-\"))\n",
    "   try:\n",
    "       return (w_list[0].astype(float) + w_list[1].astype(float)) / 2\n",
    "   except ValueError:\n",
    "       return w_list[0].astype(float)\n",
    "Rangeconvert = np.vectorize(rangeconvert)"
   ]
  },
  {
   "cell_type": "code",
   "execution_count": 18,
   "metadata": {
    "collapsed": false
   },
   "outputs": [
    {
     "name": "stderr",
     "output_type": "stream",
     "text": [
      "/opt/rh/anaconda/root/envs/PUI2016_Python2/lib/python2.7/site-packages/ipykernel/__main__.py:2: SettingWithCopyWarning: \n",
      "A value is trying to be set on a copy of a slice from a DataFrame.\n",
      "Try using .loc[row_indexer,col_indexer] = value instead\n",
      "\n",
      "See the caveats in the documentation: http://pandas.pydata.org/pandas-docs/stable/indexing.html#indexing-view-versus-copy\n",
      "  from ipykernel import kernelapp as app\n"
     ]
    }
   ],
   "source": [
    "data2['WAGE_annual'] = Convertwage(Rangeconvert(data2['WAGE_RATE_OF_PAY']), \n",
    "                                  data2['WAGE_UNIT_OF_PAY'], data2['FULL_TIME_POSITION'])"
   ]
  },
  {
   "cell_type": "code",
   "execution_count": 19,
   "metadata": {
    "collapsed": false,
    "scrolled": false
   },
   "outputs": [
    {
     "name": "stderr",
     "output_type": "stream",
     "text": [
      "/opt/rh/anaconda/root/envs/PUI2016_Python2/lib/python2.7/site-packages/ipykernel/__main__.py:1: SettingWithCopyWarning: \n",
      "A value is trying to be set on a copy of a slice from a DataFrame.\n",
      "Try using .loc[row_indexer,col_indexer] = value instead\n",
      "\n",
      "See the caveats in the documentation: http://pandas.pydata.org/pandas-docs/stable/indexing.html#indexing-view-versus-copy\n",
      "  if __name__ == '__main__':\n"
     ]
    }
   ],
   "source": [
    "data2['PW_WAGE_annual'] = Convertwage(data2['PREVAILING_WAGE'], data2['PW_UNIT_OF_PAY'], data2['FULL_TIME_POSITION'])"
   ]
  },
  {
   "cell_type": "code",
   "execution_count": 20,
   "metadata": {
    "collapsed": true
   },
   "outputs": [],
   "source": [
    "data3 = pd.merge(data2, codes, on='NAIC_CODE')"
   ]
  },
  {
   "cell_type": "code",
   "execution_count": 21,
   "metadata": {
    "collapsed": false
   },
   "outputs": [
    {
     "data": {
      "text/plain": [
       "CASE_NUMBER                       object\n",
       "CASE_STATUS                       object\n",
       "CASE_SUBMITTED            datetime64[ns]\n",
       "DECISION_DATE             datetime64[ns]\n",
       "EMPLOYMENT_START_DATE             object\n",
       "EMPLOYMENT_END_DATE               object\n",
       "EMPLOYER_NAME                     object\n",
       "JOB_TITLE                         object\n",
       "SOC_NAME                          object\n",
       "NAIC_CODE                        float64\n",
       "TOTAL WORKERS                    float64\n",
       "FULL_TIME_POSITION                object\n",
       "PREVAILING_WAGE                  float64\n",
       "PW_UNIT_OF_PAY                    object\n",
       "PW_WAGE_LEVEL                     object\n",
       "WAGE_RATE_OF_PAY                  object\n",
       "WAGE_UNIT_OF_PAY                  object\n",
       "H-1B_DEPENDENT                    object\n",
       "WILLFUL VIOLATOR                  object\n",
       "WORKSITE_CITY                     object\n",
       "WORKSITE_STATE                    object\n",
       "WORKSITE_POSTAL_CODE              object\n",
       "decision_date            timedelta64[ns]\n",
       "WAGE_annual                      float64\n",
       "PW_WAGE_annual                   float64\n",
       "2017 NAICS Title                  object\n",
       "dtype: object"
      ]
     },
     "execution_count": 21,
     "metadata": {},
     "output_type": "execute_result"
    }
   ],
   "source": [
    "data3.dtypes"
   ]
  },
  {
   "cell_type": "code",
   "execution_count": null,
   "metadata": {
    "collapsed": true
   },
   "outputs": [],
   "source": []
  },
  {
   "cell_type": "code",
   "execution_count": null,
   "metadata": {
    "collapsed": false
   },
   "outputs": [],
   "source": []
  },
  {
   "cell_type": "code",
   "execution_count": 22,
   "metadata": {
    "collapsed": true
   },
   "outputs": [],
   "source": [
    "def status(S):\n",
    "   if S == 'CERTIFIED':\n",
    "       return 1\n",
    "   else:\n",
    "       return 0\n",
    "Status = np.vectorize(status)\n",
    "data3['Status'] = Status(data3['CASE_STATUS'])"
   ]
  },
  {
   "cell_type": "code",
   "execution_count": 23,
   "metadata": {
    "collapsed": false
   },
   "outputs": [
    {
     "data": {
      "text/plain": [
       "(500433, 27)"
      ]
     },
     "execution_count": 23,
     "metadata": {},
     "output_type": "execute_result"
    }
   ],
   "source": [
    "data3.shape"
   ]
  },
  {
   "cell_type": "code",
   "execution_count": 27,
   "metadata": {
    "collapsed": true
   },
   "outputs": [],
   "source": [
    "def dep(D):\n",
    "   if D == 'Y':\n",
    "       return 1\n",
    "   else:\n",
    "       return 0\n",
    "Dep = np.vectorize(dep)\n",
    "data3['h1b_dependant'] = Dep(data3['H-1B_DEPENDENT'])\n",
    "data3['violator'] = Dep(data3['WILLFUL VIOLATOR'])\n",
    "data3['position'] = Dep(data3['FULL_TIME_POSITION'])"
   ]
  },
  {
   "cell_type": "code",
   "execution_count": 32,
   "metadata": {
    "collapsed": true
   },
   "outputs": [],
   "source": [
    "data3.dropna(inplace=True)"
   ]
  },
  {
   "cell_type": "code",
   "execution_count": 36,
   "metadata": {
    "collapsed": false
   },
   "outputs": [
    {
     "data": {
      "text/plain": [
       "(479863, 30)"
      ]
     },
     "execution_count": 36,
     "metadata": {},
     "output_type": "execute_result"
    }
   ],
   "source": [
    "data3.shape"
   ]
  },
  {
   "cell_type": "code",
   "execution_count": 34,
   "metadata": {
    "collapsed": true
   },
   "outputs": [],
   "source": [
    "Y = data3.Status\n",
    "X = data3.loc[:,['TOTAL WORKERS', 'position', 'h1b_dependant',\n",
    "                'violator', 'WAGE_annual', 'PW_WAGE_annual']]"
   ]
  },
  {
   "cell_type": "code",
   "execution_count": 38,
   "metadata": {
    "collapsed": true
   },
   "outputs": [],
   "source": [
    "n = 350000"
   ]
  },
  {
   "cell_type": "code",
   "execution_count": 39,
   "metadata": {
    "collapsed": false
   },
   "outputs": [
    {
     "data": {
      "text/plain": [
       "LogisticRegression(C=10000.0, class_weight=None, dual=False,\n",
       "          fit_intercept=True, intercept_scaling=1, max_iter=100,\n",
       "          multi_class='ovr', n_jobs=1, penalty='l2', random_state=None,\n",
       "          solver='liblinear', tol=0.0001, verbose=0, warm_start=False)"
      ]
     },
     "execution_count": 39,
     "metadata": {},
     "output_type": "execute_result"
    }
   ],
   "source": [
    "logit = LogisticRegression(C=1e4)\n",
    "logit.fit(X.loc[:n], Y.loc[:n])"
   ]
  },
  {
   "cell_type": "code",
   "execution_count": 43,
   "metadata": {
    "collapsed": false
   },
   "outputs": [],
   "source": [
    "pred = logit.predict(X.loc[n:])"
   ]
  },
  {
   "cell_type": "code",
   "execution_count": 47,
   "metadata": {
    "collapsed": false
   },
   "outputs": [],
   "source": [
    "M = confusion_matrix(pred, Y.loc[n:])"
   ]
  },
  {
   "cell_type": "code",
   "execution_count": 46,
   "metadata": {
    "collapsed": false
   },
   "outputs": [
    {
     "data": {
      "text/plain": [
       "(138959, 30)"
      ]
     },
     "execution_count": 46,
     "metadata": {},
     "output_type": "execute_result"
    }
   ],
   "source": [
    "data3.loc[n:].shape"
   ]
  },
  {
   "cell_type": "code",
   "execution_count": 48,
   "metadata": {
    "collapsed": false
   },
   "outputs": [
    {
     "data": {
      "text/plain": [
       "array([[    35,      2],\n",
       "       [  3521, 135401]])"
      ]
     },
     "execution_count": 48,
     "metadata": {},
     "output_type": "execute_result"
    }
   ],
   "source": [
    "M"
   ]
  },
  {
   "cell_type": "code",
   "execution_count": 50,
   "metadata": {
    "collapsed": false
   },
   "outputs": [
    {
     "name": "stdout",
     "output_type": "stream",
     "text": [
      "Accuracy: 97.4647198094\n"
     ]
    }
   ],
   "source": [
    "print 'Accuracy:', (M[0,0] + M[1,1]) / float(M.sum())*100"
   ]
  },
  {
   "cell_type": "code",
   "execution_count": 53,
   "metadata": {
    "collapsed": false
   },
   "outputs": [
    {
     "name": "stdout",
     "output_type": "stream",
     "text": [
      "Coefficients: [[  2.50811761e-09   1.20419358e-09   9.37227560e-10   2.86335777e-12\n",
      "    5.70960192e-05  -6.68712834e-08]]\n",
      "Intercept: [  1.27913426e-09]\n"
     ]
    }
   ],
   "source": [
    "print 'Coefficients:',logit.coef_\n",
    "print 'Intercept:', logit.intercept_"
   ]
  },
  {
   "cell_type": "code",
   "execution_count": null,
   "metadata": {
    "collapsed": true
   },
   "outputs": [],
   "source": []
  }
 ],
 "metadata": {
  "kernelspec": {
   "display_name": "PUI2016_Python2",
   "language": "python",
   "name": "pui2016_python2"
  },
  "language_info": {
   "codemirror_mode": {
    "name": "ipython",
    "version": 2
   },
   "file_extension": ".py",
   "mimetype": "text/x-python",
   "name": "python",
   "nbconvert_exporter": "python",
   "pygments_lexer": "ipython2",
   "version": "2.7.12"
  }
 },
 "nbformat": 4,
 "nbformat_minor": 0
}
