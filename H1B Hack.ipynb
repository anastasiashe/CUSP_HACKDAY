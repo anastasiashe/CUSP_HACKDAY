{
 "cells": [
  {
   "cell_type": "code",
   "execution_count": 5,
   "metadata": {
    "collapsed": true
   },
   "outputs": [],
   "source": [
    "import pandas as pd\n",
    "import numpy as np\n",
    "import os"
   ]
  },
  {
   "cell_type": "code",
   "execution_count": 2,
   "metadata": {
    "collapsed": true
   },
   "outputs": [],
   "source": [
    "data = pd.read_excel(\"https://www.foreignlaborcert.doleta.gov/docs/py2015q4/H-1B_Disclosure_Data_FY15_Q4.xlsx\")"
   ]
  },
  {
   "cell_type": "code",
   "execution_count": 10,
   "metadata": {
    "collapsed": true
   },
   "outputs": [],
   "source": [
    "def getcsv():\n",
    "    '''The function downloads the 'H1B data'\n",
    "    Author: vys217\n",
    "    '''\n",
    "    print (\"Downloading\")\n",
    "    \n",
    "    if not os.path.isfile(os.getenv(\"PUIDATA\") + \"/\" + \"H-1B_Disclosure_Data_FY15_Q4.xlsx\"):\n",
    "        if os.path.isfile(\"H-1B_Disclosure_Data_FY15_Q4.xlsx\"):\n",
    "            # if in the current dir just move it\n",
    "            if os.system(\"mv \" + \"H-1B_Disclosure_Data_FY15_Q4.xlsx \" + os.getenv(\"PUIDATA\")):\n",
    "                print (\"Error moving file!, Please check!\")\n",
    "        #otherwise start looking for the zip file\n",
    "        else:\n",
    "            if not os.path.isfile(os.getenv(\"PUIDATA\") + \"/\" + \"H-1B_Disclosure_Data_FY15_Q4.xlsx\"):\n",
    "                if not os.path.isfile(\"H-1B_Disclosure_Data_FY15_Q4.xlsx\"):\n",
    "                    os.system(\"wget https://www.foreignlaborcert.doleta.gov/docs/py2015q4/H-1B_Disclosure_Data_FY15_Q4.xlsx\")\n",
    "                ###  To move it I use the os.system() functions to run bash commands with arguments\n",
    "                os.system(\"mv \" + \"H-1B_Disclosure_Data_FY15_Q4.xlsx \" + os.getenv(\"PUIDATA\"))\n",
    "\n",
    "    ### One final check:\n",
    "    if not os.path.isfile(os.getenv(\"PUIDATA\") + \"/\" + \"H-1B_Disclosure_Data_FY15_Q4.xlsx\"):\n",
    "        print (\"WARNING!!! something is wrong: the file is not there!\")\n",
    "\n",
    "    else:\n",
    "        print (\"file in place, you can continue\")"
   ]
  },
  {
   "cell_type": "code",
   "execution_count": 11,
   "metadata": {
    "collapsed": false
   },
   "outputs": [
    {
     "name": "stdout",
     "output_type": "stream",
     "text": [
      "Downloading\n",
      "file in place, you can continue\n"
     ]
    }
   ],
   "source": [
    "getcsv()"
   ]
  },
  {
   "cell_type": "code",
   "execution_count": 13,
   "metadata": {
    "collapsed": true
   },
   "outputs": [],
   "source": [
    "data = pd.read_excel(os.getenv('PUIDATA')+'/'+\"H-1B_Disclosure_Data_FY15_Q4.xlsx\")"
   ]
  },
  {
   "cell_type": "code",
   "execution_count": 14,
   "metadata": {
    "collapsed": false
   },
   "outputs": [
    {
     "data": {
      "text/plain": [
       "CASE_NUMBER                      object\n",
       "CASE_STATUS                      object\n",
       "CASE_SUBMITTED           datetime64[ns]\n",
       "DECISION_DATE            datetime64[ns]\n",
       "VISA_CLASS                       object\n",
       "EMPLOYMENT_START_DATE            object\n",
       "EMPLOYMENT_END_DATE              object\n",
       "EMPLOYER_NAME                    object\n",
       "EMPLOYER_ADDRESS1                object\n",
       "EMPLOYER_ADDRESS2                object\n",
       "EMPLOYER_CITY                    object\n",
       "EMPLOYER_STATE                   object\n",
       "EMPLOYER_POSTAL_CODE             object\n",
       "EMPLOYER_COUNTRY                 object\n",
       "EMPLOYER_PROVINCE                object\n",
       "EMPLOYER_PHONE                  float64\n",
       "EMPLOYER_PHONE_EXT              float64\n",
       "AGENT_ATTORNEY_NAME              object\n",
       "AGENT_ATTORNEY_CITY              object\n",
       "AGENT_ATTORNEY_STATE             object\n",
       "JOB_TITLE                        object\n",
       "SOC_CODE                         object\n",
       "SOC_NAME                         object\n",
       "NAIC_CODE                       float64\n",
       "TOTAL WORKERS                   float64\n",
       "FULL_TIME_POSITION               object\n",
       "PREVAILING_WAGE                 float64\n",
       "PW_UNIT_OF_PAY                   object\n",
       "PW_WAGE_LEVEL                    object\n",
       "PW_WAGE_SOURCE                   object\n",
       "PW_WAGE_SOURCE_YEAR             float64\n",
       "PW_WAGE_SOURCE_OTHER             object\n",
       "WAGE_RATE_OF_PAY                 object\n",
       "WAGE_UNIT_OF_PAY                 object\n",
       "H-1B_DEPENDENT                   object\n",
       "WILLFUL VIOLATOR                 object\n",
       "WORKSITE_CITY                    object\n",
       "WORKSITE_COUNTY                  object\n",
       "WORKSITE_STATE                   object\n",
       "WORKSITE_POSTAL_CODE             object\n",
       "dtype: object"
      ]
     },
     "execution_count": 14,
     "metadata": {},
     "output_type": "execute_result"
    }
   ],
   "source": [
    "data.dtypes"
   ]
  },
  {
   "cell_type": "code",
   "execution_count": 16,
   "metadata": {
    "collapsed": true
   },
   "outputs": [],
   "source": [
    "data['decision_date'] = data.DECISION_DATE - data.CASE_SUBMITTED\n",
    "data = data[data.VISA_CLASS == 'H-1B']"
   ]
  },
  {
   "cell_type": "code",
   "execution_count": 75,
   "metadata": {
    "collapsed": false,
    "scrolled": false
   },
   "outputs": [
    {
     "data": {
      "text/plain": [
       "count       605770\n",
       "unique        8338\n",
       "top       NEW YORK\n",
       "freq         32848\n",
       "Name: WORKSITE_CITY, dtype: object"
      ]
     },
     "execution_count": 75,
     "metadata": {},
     "output_type": "execute_result"
    }
   ],
   "source": [
    "data.drop(columns = ['EMPLOYER_ADDRESS1', 'EMPLOYER_ADDRESS2'. 'EMPLOYER_CITY', 'EMPLOYER_STATE', \n",
    "                     'EMPLOYER_POSTAL_CODE'])"
   ]
  },
  {
   "cell_type": "code",
   "execution_count": 81,
   "metadata": {
    "collapsed": false
   },
   "outputs": [
    {
     "data": {
      "text/html": [
       "<div>\n",
       "<table border=\"1\" class=\"dataframe\">\n",
       "  <thead>\n",
       "    <tr style=\"text-align: right;\">\n",
       "      <th></th>\n",
       "      <th>CASE_NUMBER</th>\n",
       "      <th>CASE_STATUS</th>\n",
       "      <th>CASE_SUBMITTED</th>\n",
       "      <th>DECISION_DATE</th>\n",
       "      <th>VISA_CLASS</th>\n",
       "      <th>EMPLOYMENT_START_DATE</th>\n",
       "      <th>EMPLOYMENT_END_DATE</th>\n",
       "      <th>EMPLOYER_NAME</th>\n",
       "      <th>EMPLOYER_ADDRESS1</th>\n",
       "      <th>EMPLOYER_ADDRESS2</th>\n",
       "      <th>...</th>\n",
       "      <th>PW_WAGE_SOURCE_OTHER</th>\n",
       "      <th>WAGE_RATE_OF_PAY</th>\n",
       "      <th>WAGE_UNIT_OF_PAY</th>\n",
       "      <th>H-1B_DEPENDENT</th>\n",
       "      <th>WILLFUL VIOLATOR</th>\n",
       "      <th>WORKSITE_CITY</th>\n",
       "      <th>WORKSITE_COUNTY</th>\n",
       "      <th>WORKSITE_STATE</th>\n",
       "      <th>WORKSITE_POSTAL_CODE</th>\n",
       "      <th>decision_date</th>\n",
       "    </tr>\n",
       "  </thead>\n",
       "  <tbody>\n",
       "    <tr>\n",
       "      <th>245045</th>\n",
       "      <td>I-200-15061-542522</td>\n",
       "      <td>CERTIFIED</td>\n",
       "      <td>2015-03-02</td>\n",
       "      <td>2015-03-10</td>\n",
       "      <td>H-1B</td>\n",
       "      <td>09/01/2015</td>\n",
       "      <td>09/01/2018</td>\n",
       "      <td>INOVALON, INC.</td>\n",
       "      <td>4321 COLLINGTON ROAD</td>\n",
       "      <td>NaN</td>\n",
       "      <td>...</td>\n",
       "      <td>OFLC ONLINE DATA CENTER</td>\n",
       "      <td>80413 - 90413</td>\n",
       "      <td>Year</td>\n",
       "      <td>N</td>\n",
       "      <td>N</td>\n",
       "      <td>BOWIE</td>\n",
       "      <td>PRINCE GEORGE'S</td>\n",
       "      <td>MD</td>\n",
       "      <td>20716</td>\n",
       "      <td>8 days</td>\n",
       "    </tr>\n",
       "  </tbody>\n",
       "</table>\n",
       "<p>1 rows × 41 columns</p>\n",
       "</div>"
      ],
      "text/plain": [
       "               CASE_NUMBER CASE_STATUS CASE_SUBMITTED DECISION_DATE  \\\n",
       "245045  I-200-15061-542522   CERTIFIED     2015-03-02    2015-03-10   \n",
       "\n",
       "       VISA_CLASS EMPLOYMENT_START_DATE EMPLOYMENT_END_DATE   EMPLOYER_NAME  \\\n",
       "245045       H-1B            09/01/2015          09/01/2018  INOVALON, INC.   \n",
       "\n",
       "           EMPLOYER_ADDRESS1 EMPLOYER_ADDRESS2      ...       \\\n",
       "245045  4321 COLLINGTON ROAD               NaN      ...        \n",
       "\n",
       "           PW_WAGE_SOURCE_OTHER WAGE_RATE_OF_PAY WAGE_UNIT_OF_PAY  \\\n",
       "245045  OFLC ONLINE DATA CENTER    80413 - 90413             Year   \n",
       "\n",
       "       H-1B_DEPENDENT WILLFUL VIOLATOR  WORKSITE_CITY  WORKSITE_COUNTY  \\\n",
       "245045              N                N          BOWIE  PRINCE GEORGE'S   \n",
       "\n",
       "       WORKSITE_STATE WORKSITE_POSTAL_CODE decision_date  \n",
       "245045             MD                20716        8 days  \n",
       "\n",
       "[1 rows x 41 columns]"
      ]
     },
     "execution_count": 81,
     "metadata": {},
     "output_type": "execute_result"
    }
   ],
   "source": [
    "data[data.duplicated()]"
   ]
  },
  {
   "cell_type": "code",
   "execution_count": null,
   "metadata": {
    "collapsed": true
   },
   "outputs": [],
   "source": []
  }
 ],
 "metadata": {
  "kernelspec": {
   "display_name": "PUI2016_Python2",
   "language": "python",
   "name": "pui2016_python2"
  },
  "language_info": {
   "codemirror_mode": {
    "name": "ipython",
    "version": 2
   },
   "file_extension": ".py",
   "mimetype": "text/x-python",
   "name": "python",
   "nbconvert_exporter": "python",
   "pygments_lexer": "ipython2",
   "version": "2.7.12"
  }
 },
 "nbformat": 4,
 "nbformat_minor": 0
}
