{
 "cells": [
  {
   "cell_type": "code",
   "execution_count": 169,
   "metadata": {
    "collapsed": true
   },
   "outputs": [],
   "source": [
    "import pandas as pd\n",
    "import numpy as np\n",
    "import os\n",
    "from sklearn.linear_model import LogisticRegression"
   ]
  },
  {
   "cell_type": "code",
   "execution_count": 2,
   "metadata": {
    "collapsed": true
   },
   "outputs": [],
   "source": [
    "data = pd.read_excel(\"https://www.foreignlaborcert.doleta.gov/docs/py2015q4/H-1B_Disclosure_Data_FY15_Q4.xlsx\")"
   ]
  },
  {
   "cell_type": "code",
   "execution_count": 128,
   "metadata": {
    "collapsed": true
   },
   "outputs": [],
   "source": [
    "def getcsv():\n",
    "    '''The function downloads the 'H1B data'\n",
    "    Author: vys217\n",
    "    '''\n",
    "    print (\"Downloading\")\n",
    "    \n",
    "    if not os.path.isfile(os.getenv(\"PUIDATA\") + \"/\" + \"H-1B_Disclosure_Data_FY15_Q4.xlsx\"):\n",
    "        if os.path.isfile(\"H-1B_Disclosure_Data_FY15_Q4.xlsx\"):\n",
    "            # if in the current dir just move it\n",
    "            if os.system(\"mv \" + \"H-1B_Disclosure_Data_FY15_Q4.xlsx \" + os.getenv(\"PUIDATA\")):\n",
    "                print (\"Error moving file!, Please check!\")\n",
    "        #otherwise start looking for the zip file\n",
    "        else:\n",
    "            if not os.path.isfile(os.getenv(\"PUIDATA\") + \"/\" + \"H-1B_Disclosure_Data_FY15_Q4.xlsx\"):\n",
    "                if not os.path.isfile(\"H-1B_Disclosure_Data_FY15_Q4.xlsx\"):\n",
    "                    os.system(\"wget https://www.foreignlaborcert.doleta.gov/docs/py2015q4/H-1B_Disclosure_Data_FY15_Q4.xlsx\")\n",
    "                    \n",
    "                ###  To move it I use the os.system() functions to run bash commands with arguments\n",
    "                os.system(\"mv \" + \"H-1B_Disclosure_Data_FY15_Q4.xlsx \" + os.getenv(\"PUIDATA\"))\n",
    "\n",
    "    ### One final check:\n",
    "    if not os.path.isfile(os.getenv(\"PUIDATA\") + \"/\" + \"H-1B_Disclosure_Data_FY15_Q4.xlsx\"):\n",
    "        print (\"WARNING!!! something is wrong: the file is not there!\")\n",
    "\n",
    "    else:\n",
    "        print (\"file in place, you can continue\")\n",
    "        \n",
    "    print (\"Downloading\")\n",
    "    \n",
    "    if not os.path.isfile(os.getenv(\"PUIDATA\") + \"/\" + \"2017_NAICS_Structure.xlsx\"):\n",
    "        if os.path.isfile(\"2017_NAICS_Structure.xlsx\"):\n",
    "            # if in the current dir just move it\n",
    "            if os.system(\"mv \" + \"2017_NAICS_Structure.xlsx \" + os.getenv(\"PUIDATA\")):\n",
    "                print (\"Error moving file!, Please check!\")\n",
    "        #otherwise start looking for the zip file\n",
    "        else:\n",
    "            if not os.path.isfile(os.getenv(\"PUIDATA\") + \"/\" + \"2017_NAICS_Structure.xlsx\"):\n",
    "                if not os.path.isfile(\"2017_NAICS_Structure.xlsx\"):\n",
    "                    os.system(\"wget http://www.census.gov/eos/www/naics/2017NAICS/2017_NAICS_Structure.xlsx\")\n",
    "                    \n",
    "                ###  To move it I use the os.system() functions to run bash commands with arguments\n",
    "                os.system(\"mv \" + \"2017_NAICS_Structure.xlsx \" + os.getenv(\"PUIDATA\"))\n",
    "\n",
    "    ### One final check:\n",
    "    if not os.path.isfile(os.getenv(\"PUIDATA\") + \"/\" + \"2017_NAICS_Structure.xlsx\"):\n",
    "        print (\"WARNING!!! something is wrong: the file is not there!\")\n",
    "\n",
    "    else:\n",
    "        print (\"file in place, you can continue\")    "
   ]
  },
  {
   "cell_type": "code",
   "execution_count": 129,
   "metadata": {
    "collapsed": false
   },
   "outputs": [
    {
     "name": "stdout",
     "output_type": "stream",
     "text": [
      "Downloading\n",
      "file in place, you can continue\n",
      "Downloading\n",
      "file in place, you can continue\n"
     ]
    }
   ],
   "source": [
    "getcsv()"
   ]
  },
  {
   "cell_type": "code",
   "execution_count": 147,
   "metadata": {
    "collapsed": false
   },
   "outputs": [],
   "source": [
    "data = pd.read_excel(os.getenv('PUIDATA')+'/'+\"H-1B_Disclosure_Data_FY15_Q4.xlsx\")"
   ]
  },
  {
   "cell_type": "code",
   "execution_count": 149,
   "metadata": {
    "collapsed": true
   },
   "outputs": [],
   "source": [
    "codes = pd.read_excel( os.getenv('PUIDATA')+'/'+\"2017_NAICS_Structure.xlsx\", header= 2)\n",
    "codes.drop(['Change Indicator'], axis= 1, inplace= True)\n",
    "codes.rename(columns={'2017 NAICS Code' : 'NAIC_CODE'}, inplace=True)"
   ]
  },
  {
   "cell_type": "code",
   "execution_count": 16,
   "metadata": {
    "collapsed": true
   },
   "outputs": [],
   "source": [
    "data['decision_date'] = data.DECISION_DATE - data.CASE_SUBMITTED\n",
    "data = data[data.VISA_CLASS == 'H-1B']"
   ]
  },
  {
   "cell_type": "code",
   "execution_count": 84,
   "metadata": {
    "collapsed": true
   },
   "outputs": [],
   "source": [
    "data1 = data.copy()"
   ]
  },
  {
   "cell_type": "code",
   "execution_count": 88,
   "metadata": {
    "collapsed": false,
    "scrolled": false
   },
   "outputs": [],
   "source": [
    "data1.drop(['EMPLOYER_ADDRESS1', 'EMPLOYER_ADDRESS2', 'EMPLOYER_CITY', 'EMPLOYER_STATE', \n",
    "                     'EMPLOYER_POSTAL_CODE', 'VISA_CLASS', 'EMPLOYER_COUNTRY', 'EMPLOYER_PROVINCE',\n",
    "                     'EMPLOYER_PHONE', 'EMPLOYER_PHONE_EXT', 'AGENT_ATTORNEY_NAME', 'AGENT_ATTORNEY_CITY',\n",
    "                     'AGENT_ATTORNEY_STATE', 'SOC_CODE', 'PW_WAGE_SOURCE', 'PW_WAGE_SOURCE_YEAR', \n",
    "                     'PW_WAGE_SOURCE_OTHER', 'WORKSITE_COUNTY'], axis = 1, inplace = True)"
   ]
  },
  {
   "cell_type": "code",
   "execution_count": 151,
   "metadata": {
    "collapsed": false
   },
   "outputs": [],
   "source": [
    "data1 = data1[(dataUS == 'CERTIFIED') | (data1.CASE_STATUS == 'DENIED')]\n",
    "data2 = data1.dropna(subset=['W1.CASE_STATAGE_UNIT_OF_PAY'])"
   ]
  },
  {
   "cell_type": "code",
   "execution_count": 152,
   "metadata": {
    "collapsed": false
   },
   "outputs": [],
   "source": [
    "def convertwage(wage, unit, FT):\n",
    "   if unit == 'Year':\n",
    "       return wage\n",
    "   elif unit == 'Month':\n",
    "       return wage * 12\n",
    "   elif unit == 'Week':\n",
    "       return wage * 4 *12\n",
    "   elif unit == 'Bi-Weekly':\n",
    "       return wage * 2 * 12\n",
    "   elif unit == 'Hour':\n",
    "       if FT == 'Y':\n",
    "           return wage * 40 * 4 * 12\n",
    "       elif FT == 'N':\n",
    "           return wage * 20 * 4 * 12\n",
    "Convertwage = np.vectorize(convertwage)"
   ]
  },
  {
   "cell_type": "code",
   "execution_count": 153,
   "metadata": {
    "collapsed": true
   },
   "outputs": [],
   "source": [
    "def rangeconvert(w_str):\n",
    "   w_list = np.array(w_str.split(\"-\"))\n",
    "   try:\n",
    "       return (w_list[0].astype(float) + w_list[1].astype(float)) / 2\n",
    "   except ValueError:\n",
    "       return w_list[0].astype(float)\n",
    "Rangeconvert = np.vectorize(rangeconvert)"
   ]
  },
  {
   "cell_type": "code",
   "execution_count": 154,
   "metadata": {
    "collapsed": false
   },
   "outputs": [
    {
     "name": "stderr",
     "output_type": "stream",
     "text": [
      "/opt/rh/anaconda/root/envs/PUI2016_Python2/lib/python2.7/site-packages/ipykernel/__main__.py:2: SettingWithCopyWarning: \n",
      "A value is trying to be set on a copy of a slice from a DataFrame.\n",
      "Try using .loc[row_indexer,col_indexer] = value instead\n",
      "\n",
      "See the caveats in the documentation: http://pandas.pydata.org/pandas-docs/stable/indexing.html#indexing-view-versus-copy\n",
      "  from ipykernel import kernelapp as app\n"
     ]
    }
   ],
   "source": [
    "data2['WAGE_annual'] = Convertwage(Rangeconvert(data2['WAGE_RATE_OF_PAY']), \n",
    "                                  data2['WAGE_UNIT_OF_PAY'], data2['FULL_TIME_POSITION'])"
   ]
  },
  {
   "cell_type": "code",
   "execution_count": 156,
   "metadata": {
    "collapsed": false,
    "scrolled": false
   },
   "outputs": [
    {
     "name": "stderr",
     "output_type": "stream",
     "text": [
      "/opt/rh/anaconda/root/envs/PUI2016_Python2/lib/python2.7/site-packages/ipykernel/__main__.py:1: SettingWithCopyWarning: \n",
      "A value is trying to be set on a copy of a slice from a DataFrame.\n",
      "Try using .loc[row_indexer,col_indexer] = value instead\n",
      "\n",
      "See the caveats in the documentation: http://pandas.pydata.org/pandas-docs/stable/indexing.html#indexing-view-versus-copy\n",
      "  if __name__ == '__main__':\n"
     ]
    }
   ],
   "source": [
    "data2['PW_WAGE_annual'] = Convertwage(data2['PREVAILING_WAGE'], data2['PW_UNIT_OF_PAY'], data2['FULL_TIME_POSITION'])"
   ]
  },
  {
   "cell_type": "code",
   "execution_count": 159,
   "metadata": {
    "collapsed": true
   },
   "outputs": [],
   "source": [
    "data3 = pd.merge(data2, codes, on='NAIC_CODE')"
   ]
  },
  {
   "cell_type": "code",
   "execution_count": null,
   "metadata": {
    "collapsed": true
   },
   "outputs": [],
   "source": []
  }
 ],
 "metadata": {
  "kernelspec": {
   "display_name": "PUI2016_Python2",
   "language": "python",
   "name": "pui2016_python2"
  },
  "language_info": {
   "codemirror_mode": {
    "name": "ipython",
    "version": 2
   },
   "file_extension": ".py",
   "mimetype": "text/x-python",
   "name": "python",
   "nbconvert_exporter": "python",
   "pygments_lexer": "ipython2",
   "version": "2.7.12"
  }
 },
 "nbformat": 4,
 "nbformat_minor": 0
}
