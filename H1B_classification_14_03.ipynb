{
 "cells": [
  {
   "cell_type": "code",
   "execution_count": 16,
   "metadata": {
    "collapsed": false
   },
   "outputs": [
    {
     "name": "stdout",
     "output_type": "stream",
     "text": [
      "Populating the interactive namespace from numpy and matplotlib\n"
     ]
    }
   ],
   "source": [
    "import pandas as pd\n",
    "import numpy as np\n",
    "import matplotlib as pl\n",
    "import csv\n",
    "%pylab inline"
   ]
  },
  {
   "cell_type": "markdown",
   "metadata": {},
   "source": [
    "Link for the data https://www.foreignlaborcert.doleta.gov/docs/py2015q4/H-1B_Disclosure_Data_FY15_Q4.xlsx\n",
    "#### Please convert the excel file to csv before loading it on the notebook"
   ]
  },
  {
   "cell_type": "code",
   "execution_count": 18,
   "metadata": {
    "collapsed": false
   },
   "outputs": [],
   "source": [
    "clean_data = []\n",
    "\n",
    "def streaming(reader):\n",
    "    for row in reader:\n",
    "        yield (row['CASE_STATUS'], row['SOC_CODE'], row['PW_WAGE_LEVEL'], row['TOTAL WORKERS'], \\\n",
    "           row['FULL_TIME_POSITION'], row['EMPLOYER_CITY'], row['H-1B_DEPENDENT'], row['WILLFUL VIOLATOR'])\n",
    "\n",
    "with open('H-1B_Disclosure_Data_FY15_Q4.csv', 'r') as fi:\n",
    "    reader = csv.DictReader(fi)\n",
    "    for row in streaming(reader):\n",
    "        clean_data.append(row)"
   ]
  },
  {
   "cell_type": "code",
   "execution_count": 19,
   "metadata": {
    "collapsed": false
   },
   "outputs": [
    {
     "data": {
      "text/html": [
       "<div>\n",
       "<table border=\"1\" class=\"dataframe\">\n",
       "  <thead>\n",
       "    <tr style=\"text-align: right;\">\n",
       "      <th></th>\n",
       "      <th>CASE_STATUS</th>\n",
       "      <th>SOC_CODE</th>\n",
       "      <th>PW_WAGE_LEVEL</th>\n",
       "      <th>TOTAL WORKERS</th>\n",
       "      <th>FULL_TIME_POSITION</th>\n",
       "      <th>H-1B_DEPENDENT</th>\n",
       "      <th>WILLFUL_VIOLATOR</th>\n",
       "    </tr>\n",
       "  </thead>\n",
       "  <tbody>\n",
       "    <tr>\n",
       "      <th>0</th>\n",
       "      <td>WITHDRAWN</td>\n",
       "      <td>17-2141.00</td>\n",
       "      <td>Level I</td>\n",
       "      <td>1</td>\n",
       "      <td>Y</td>\n",
       "      <td>N</td>\n",
       "      <td>N</td>\n",
       "    </tr>\n",
       "    <tr>\n",
       "      <th>1</th>\n",
       "      <td>CERTIFIED</td>\n",
       "      <td>25-1032</td>\n",
       "      <td>Level I</td>\n",
       "      <td>1</td>\n",
       "      <td>Y</td>\n",
       "      <td>N</td>\n",
       "      <td>N</td>\n",
       "    </tr>\n",
       "    <tr>\n",
       "      <th>2</th>\n",
       "      <td>WITHDRAWN</td>\n",
       "      <td>15-1799</td>\n",
       "      <td>Level II</td>\n",
       "      <td>1</td>\n",
       "      <td>Y</td>\n",
       "      <td>N</td>\n",
       "      <td>N</td>\n",
       "    </tr>\n",
       "    <tr>\n",
       "      <th>3</th>\n",
       "      <td>CERTIFIED</td>\n",
       "      <td>17-2072</td>\n",
       "      <td>Level I</td>\n",
       "      <td>2</td>\n",
       "      <td>Y</td>\n",
       "      <td>N</td>\n",
       "      <td>N</td>\n",
       "    </tr>\n",
       "    <tr>\n",
       "      <th>4</th>\n",
       "      <td>CERTIFIED</td>\n",
       "      <td>15-1131</td>\n",
       "      <td>Level IV</td>\n",
       "      <td>1</td>\n",
       "      <td>Y</td>\n",
       "      <td>N</td>\n",
       "      <td>N</td>\n",
       "    </tr>\n",
       "  </tbody>\n",
       "</table>\n",
       "</div>"
      ],
      "text/plain": [
       "  CASE_STATUS    SOC_CODE PW_WAGE_LEVEL TOTAL WORKERS FULL_TIME_POSITION  \\\n",
       "0   WITHDRAWN  17-2141.00       Level I             1                  Y   \n",
       "1   CERTIFIED     25-1032       Level I             1                  Y   \n",
       "2   WITHDRAWN     15-1799      Level II             1                  Y   \n",
       "3   CERTIFIED     17-2072       Level I             2                  Y   \n",
       "4   CERTIFIED     15-1131      Level IV             1                  Y   \n",
       "\n",
       "  H-1B_DEPENDENT WILLFUL_VIOLATOR  \n",
       "0              N                N  \n",
       "1              N                N  \n",
       "2              N                N  \n",
       "3              N                N  \n",
       "4              N                N  "
      ]
     },
     "execution_count": 19,
     "metadata": {},
     "output_type": "execute_result"
    }
   ],
   "source": [
    "columns = ['CASE_STATUS', 'SOC_CODE', 'PW_WAGE_LEVEL', 'TOTAL WORKERS', 'FULL_TIME_POSITION',\\\n",
    "           'EMPLOYER_CITY', 'H-1B_DEPENDENT', u'WILLFUL_VIOLATOR']\n",
    "analysis_data = pd.DataFrame(clean_data, columns=columns)\n",
    "analysis_data.drop('EMPLOYER_CITY', axis=1, inplace=True)\n",
    "analysis_data.dropna(inplace=True)\n",
    "analysis_data.head()"
   ]
  },
  {
   "cell_type": "code",
   "execution_count": null,
   "metadata": {
    "collapsed": true
   },
   "outputs": [],
   "source": [
    "# pd.get_dummies(analysis_data, columns=[u'SOC_CODE', u'PW_WAGE_LEVEL', u'FULL_TIME_POSITION', u'H-1B_DEPENDENT',\n",
    "#                                        u'WILLFUL_VIOLATOR'])"
   ]
  },
  {
   "cell_type": "code",
   "execution_count": 20,
   "metadata": {
    "collapsed": true
   },
   "outputs": [],
   "source": [
    "analysis_data['TOTAL WORKERS'] = pd.to_numeric(analysis_data['TOTAL WORKERS'], errors='coerce')"
   ]
  },
  {
   "cell_type": "code",
   "execution_count": 21,
   "metadata": {
    "collapsed": false
   },
   "outputs": [
    {
     "data": {
      "text/html": [
       "<div>\n",
       "<table border=\"1\" class=\"dataframe\">\n",
       "  <thead>\n",
       "    <tr style=\"text-align: right;\">\n",
       "      <th></th>\n",
       "      <th>CASE_STATUS</th>\n",
       "      <th>SOC_CODE</th>\n",
       "      <th>PW_WAGE_LEVEL</th>\n",
       "      <th>TOTAL WORKERS</th>\n",
       "      <th>FULL_TIME_POSITION</th>\n",
       "      <th>H-1B_DEPENDENT</th>\n",
       "      <th>WILLFUL_VIOLATOR</th>\n",
       "    </tr>\n",
       "  </thead>\n",
       "  <tbody>\n",
       "    <tr>\n",
       "      <th>0</th>\n",
       "      <td>WITHDRAWN</td>\n",
       "      <td>17-2141.00</td>\n",
       "      <td>Level I</td>\n",
       "      <td>1.0</td>\n",
       "      <td>Y</td>\n",
       "      <td>N</td>\n",
       "      <td>N</td>\n",
       "    </tr>\n",
       "    <tr>\n",
       "      <th>1</th>\n",
       "      <td>CERTIFIED</td>\n",
       "      <td>25-1032</td>\n",
       "      <td>Level I</td>\n",
       "      <td>1.0</td>\n",
       "      <td>Y</td>\n",
       "      <td>N</td>\n",
       "      <td>N</td>\n",
       "    </tr>\n",
       "    <tr>\n",
       "      <th>2</th>\n",
       "      <td>WITHDRAWN</td>\n",
       "      <td>15-1799</td>\n",
       "      <td>Level II</td>\n",
       "      <td>1.0</td>\n",
       "      <td>Y</td>\n",
       "      <td>N</td>\n",
       "      <td>N</td>\n",
       "    </tr>\n",
       "  </tbody>\n",
       "</table>\n",
       "</div>"
      ],
      "text/plain": [
       "  CASE_STATUS    SOC_CODE PW_WAGE_LEVEL  TOTAL WORKERS FULL_TIME_POSITION  \\\n",
       "0   WITHDRAWN  17-2141.00       Level I            1.0                  Y   \n",
       "1   CERTIFIED     25-1032       Level I            1.0                  Y   \n",
       "2   WITHDRAWN     15-1799      Level II            1.0                  Y   \n",
       "\n",
       "  H-1B_DEPENDENT WILLFUL_VIOLATOR  \n",
       "0              N                N  \n",
       "1              N                N  \n",
       "2              N                N  "
      ]
     },
     "execution_count": 21,
     "metadata": {},
     "output_type": "execute_result"
    }
   ],
   "source": [
    "analysis_data.head(3)"
   ]
  },
  {
   "cell_type": "code",
   "execution_count": 43,
   "metadata": {
    "collapsed": false
   },
   "outputs": [
    {
     "name": "stdout",
     "output_type": "stream",
     "text": [
      "618789\n",
      "618789\n"
     ]
    }
   ],
   "source": [
    "print len(analysis_data)\n",
    "analysis_data.dropna(inplace=True)\n",
    "print len(analysis_data)\n",
    "analysis_data.reset_index(inplace=True, drop=True)\n",
    "# analysis_data['TOTAL WORKERS'] = analysis_data['TOTAL WORKERS'].apply(lambda x: int(x))"
   ]
  },
  {
   "cell_type": "code",
   "execution_count": 23,
   "metadata": {
    "collapsed": false
   },
   "outputs": [
    {
     "data": {
      "text/plain": [
       "<matplotlib.text.Text at 0x20cff400>"
      ]
     },
     "execution_count": 23,
     "metadata": {},
     "output_type": "execute_result"
    },
    {
     "data": {
      "image/png": "[encoded data removed]",
      "text/plain": [
       "<matplotlib.figure.Figure at 0x20c9ecf8>"
      ]
     },
     "metadata": {},
     "output_type": "display_data"
    }
   ],
   "source": [
    "val_count = pd.value_counts(analysis_data['CASE_STATUS'], sort = True).sort_index()\n",
    "val_count.plot(kind = 'bar')\n",
    "plt.title(\"Application status class histogram\")\n",
    "plt.xlabel(\"Class\")\n",
    "plt.ylabel(\"Frequency\")"
   ]
  },
  {
   "cell_type": "code",
   "execution_count": 76,
   "metadata": {
    "collapsed": false
   },
   "outputs": [],
   "source": [
    "X = analysis_data.ix[:, analysis_data.columns != 'CASE_STATUS']\n",
    "y = analysis_data.ix[:, analysis_data.columns == 'CASE_STATUS']"
   ]
  },
  {
   "cell_type": "markdown",
   "metadata": {},
   "source": [
    "#### Analysing only Denied and Certified applications. We can later add Certified-Withdrawn as part of Certified"
   ]
  },
  {
   "cell_type": "code",
   "execution_count": 77,
   "metadata": {
    "collapsed": true
   },
   "outputs": [],
   "source": [
    "# Number of data points in the minority class\n",
    "number_records_denied = len(analysis_data[analysis_data.CASE_STATUS == 'DENIED'])\n",
    "denied_indices = np.array(analysis_data[analysis_data.CASE_STATUS == 'DENIED'].index)\n",
    "\n",
    "# Picking the indices of the normal classes\n",
    "normal_indices = analysis_data[analysis_data.CASE_STATUS == 'CERTIFIED'].index\n",
    "\n",
    "# Out of the indices we picked, randomly select \"x\" number (number_records_denied)\n",
    "random_normal_indices = np.random.choice(normal_indices, number_records_denied, replace = False)\n",
    "# random_normal_indices = np.array(random_normal_indices)"
   ]
  },
  {
   "cell_type": "code",
   "execution_count": 78,
   "metadata": {
    "collapsed": false
   },
   "outputs": [
    {
     "name": "stdout",
     "output_type": "stream",
     "text": [
      "('Percentage of certified applications: ', 0.5)\n",
      "('Percentage of denied applications: ', 0.5)\n",
      "('Total number of applications in resampled data: ', 21964)\n"
     ]
    }
   ],
   "source": [
    "# Appending the 2 indices\n",
    "under_sample_indices = np.concatenate([denied_indices,random_normal_indices])\n",
    "\n",
    "# Under sample dataset\n",
    "under_sample_data = analysis_data.iloc[under_sample_indices,:]\n",
    "under_sample_data.reset_index(inplace=True, drop=True)\n",
    "\n",
    "# Showing ratio\n",
    "print(\"Percentage of certified applications: \", float(len(under_sample_data[under_sample_data.CASE_STATUS == 'CERTIFIED']))/len(under_sample_data))\n",
    "print(\"Percentage of denied applications: \", float(len(under_sample_data[under_sample_data.CASE_STATUS == 'DENIED']))/len(under_sample_data))\n",
    "print(\"Total number of applications in resampled data: \", len(under_sample_data))"
   ]
  },
  {
   "cell_type": "code",
   "execution_count": 79,
   "metadata": {
    "collapsed": false
   },
   "outputs": [],
   "source": [
    "under_sample_data = pd.get_dummies(under_sample_data, columns=[u'SOC_CODE', u'PW_WAGE_LEVEL', u'FULL_TIME_POSITION', u'H-1B_DEPENDENT',\n",
    "                                           u'WILLFUL_VIOLATOR'])"
   ]
  },
  {
   "cell_type": "code",
   "execution_count": 80,
   "metadata": {
    "collapsed": true
   },
   "outputs": [],
   "source": [
    "under_sample_data.CASE_STATUS = under_sample_data.CASE_STATUS.astype('category')"
   ]
  },
  {
   "cell_type": "code",
   "execution_count": 81,
   "metadata": {
    "collapsed": true
   },
   "outputs": [],
   "source": [
    "cat_columns = under_sample_data.select_dtypes(['category']).columns\n",
    "under_sample_data[cat_columns] = under_sample_data[cat_columns].apply(lambda x: x.cat.codes)"
   ]
  },
  {
   "cell_type": "code",
   "execution_count": 86,
   "metadata": {
    "collapsed": false
   },
   "outputs": [],
   "source": [
    "# CERTIFIED = 0, DENIED = 1"
   ]
  },
  {
   "cell_type": "code",
   "execution_count": 84,
   "metadata": {
    "collapsed": false
   },
   "outputs": [
    {
     "data": {
      "text/plain": [
       "<matplotlib.text.Text at 0x2a2f97f0>"
      ]
     },
     "execution_count": 84,
     "metadata": {},
     "output_type": "execute_result"
    },
    {
     "data": {
      "image/png": "[encoded data removed]",
      "text/plain": [
       "<matplotlib.figure.Figure at 0x29dd13c8>"
      ]
     },
     "metadata": {},
     "output_type": "display_data"
    }
   ],
   "source": [
    "undersample_caseStatus = pd.value_counts(under_sample_data['CASE_STATUS'], sort = True).sort_index()\n",
    "undersample_caseStatus.plot(kind = 'bar')\n",
    "plt.title(\"Application status undersampled class histogram\")\n",
    "plt.xlabel(\"Class\")\n",
    "plt.ylabel(\"Frequency\")"
   ]
  },
  {
   "cell_type": "code",
   "execution_count": 88,
   "metadata": {
    "collapsed": true
   },
   "outputs": [],
   "source": [
    "X_undersample = under_sample_data.ix[:, under_sample_data.columns != 'CASE_STATUS']\n",
    "y_undersample = under_sample_data.ix[:, under_sample_data.columns == 'CASE_STATUS']"
   ]
  },
  {
   "cell_type": "code",
   "execution_count": 91,
   "metadata": {
    "collapsed": false,
    "scrolled": true
   },
   "outputs": [
    {
     "name": "stdout",
     "output_type": "stream",
     "text": [
      "('Number of applications train dataset: ', 15374)\n",
      "('Number of applications test dataset: ', 6590)\n",
      "('Total number of transactions: ', 21964)\n"
     ]
    }
   ],
   "source": [
    "# Splitting undersampled dataset\n",
    "from sklearn.cross_validation import train_test_split\n",
    "X_train_undersample, X_test_undersample, y_train_undersample, y_test_undersample = train_test_split(X_undersample\n",
    "                                                                                                   ,y_undersample\n",
    "                                                                                                   ,test_size = 0.3\n",
    "                                                                                                   ,random_state = 0)\n",
    "print(\"Number of applications train dataset: \", len(X_train_undersample))\n",
    "print(\"Number of applications test dataset: \", len(X_test_undersample))\n",
    "print(\"Total number of transactions: \", len(X_train_undersample)+len(X_test_undersample))"
   ]
  },
  {
   "cell_type": "code",
   "execution_count": 93,
   "metadata": {
    "collapsed": false
   },
   "outputs": [],
   "source": [
    "from sklearn.tree import DecisionTreeClassifier\n",
    "clf = DecisionTreeClassifier()\n",
    "clf = clf.fit(X_train_undersample, y_train_undersample)"
   ]
  },
  {
   "cell_type": "code",
   "execution_count": 94,
   "metadata": {
    "collapsed": false
   },
   "outputs": [
    {
     "data": {
      "text/plain": [
       "0.72915311564979834"
      ]
     },
     "execution_count": 94,
     "metadata": {},
     "output_type": "execute_result"
    }
   ],
   "source": [
    "clf.score(X_train_undersample,y_train_undersample)"
   ]
  },
  {
   "cell_type": "code",
   "execution_count": 95,
   "metadata": {
    "collapsed": false
   },
   "outputs": [
    {
     "data": {
      "text/plain": [
       "0.66737481031866464"
      ]
     },
     "execution_count": 95,
     "metadata": {},
     "output_type": "execute_result"
    }
   ],
   "source": [
    "clf.score(X_test_undersample,y_test_undersample)"
   ]
  },
  {
   "cell_type": "code",
   "execution_count": null,
   "metadata": {
    "collapsed": true
   },
   "outputs": [],
   "source": []
  }
 ],
 "metadata": {
  "anaconda-cloud": {},
  "kernelspec": {
   "display_name": "Python [default]",
   "language": "python",
   "name": "python2"
  },
  "language_info": {
   "codemirror_mode": {
    "name": "ipython",
    "version": 2
   },
   "file_extension": ".py",
   "mimetype": "text/x-python",
   "name": "python",
   "nbconvert_exporter": "python",
   "pygments_lexer": "ipython2",
   "version": "2.7.12"
  }
 },
 "nbformat": 4,
 "nbformat_minor": 1
}
